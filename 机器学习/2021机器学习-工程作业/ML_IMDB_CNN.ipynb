{
  "nbformat": 4,
  "nbformat_minor": 0,
  "metadata": {
    "colab": {
      "name": "ML_IMDB_CNN.ipynb",
      "provenance": [],
      "collapsed_sections": []
    },
    "kernelspec": {
      "name": "python3",
      "display_name": "Python 3"
    },
    "language_info": {
      "name": "python"
    }
  },
  "cells": [
    {
      "cell_type": "markdown",
      "source": [
        "# 利用卷积神经网络对 IMDB 数据进行文本分类"
      ],
      "metadata": {
        "id": "4Sx4D-Z_homX"
      }
    },
    {
      "cell_type": "markdown",
      "source": [
        "## 引入实验中所涉及到的包\n",
        "包括 IMDB 数据集、数据预处理、网络模型、网络各层结构、参数分析和绘制图像的包"
      ],
      "metadata": {
        "id": "jEqt73B5hciZ"
      }
    },
    {
      "cell_type": "code",
      "execution_count": 11,
      "metadata": {
        "id": "jCa3D00yhB21"
      },
      "outputs": [],
      "source": [
        "from keras.preprocessing import sequence\n",
        "from keras.models import Sequential \n",
        "from keras.layers import Dense,Dropout,Activation \n",
        "from keras.layers import Embedding \n",
        "from keras.layers import Conv1D,GlobalMaxPooling1D \n",
        "from keras.datasets import imdb\n",
        "import matplotlib.pyplot as plt\n",
        "import keras.metrics"
      ]
    },
    {
      "cell_type": "markdown",
      "source": [
        "##定义绘制性能曲线函数"
      ],
      "metadata": {
        "id": "X3w5OxUWKXQL"
      }
    },
    {
      "cell_type": "code",
      "source": [
        "#写一个LossHistory类，保存loss和acc\n",
        "class LossHistory(keras.callbacks.Callback):\n",
        "  def on_train_begin(self, logs = {}):\n",
        "    self.losses = {'batch':[], 'epoch':[]}\n",
        "    self.accuracy = {'batch':[], 'epoch':[]}\n",
        "    self.val_loss = {'batch':[], 'epoch':[]}\n",
        "    self.val_acc = {'batch':[], 'epoch':[]}\n",
        "  def on_batch_end(self, batch, logs={}):\n",
        "    self.losses['batch'].append(logs.get('loss'))\n",
        "    self.accuracy['batch'].append(logs.get('acc'))\n",
        "    self.val_loss['batch'].append(logs.get('val_loss'))\n",
        "    self.val_acc['batch'].append(logs.get('val_acc'))\n",
        "  def on_epoch_end(self, batch, logs = {}):\n",
        "    self.losses['epoch'].append(logs.get('loss'))\n",
        "    self.accuracy['epoch'].append(logs.get('acc'))\n",
        "    self.val_loss['epoch'].append(logs.get('val_loss'))\n",
        "    self.val_acc['epoch'].append(logs.get('val_acc'))\n",
        "  def loss_plot(self, loss_type):\n",
        "    iters = range(len(self.losses[loss_type]))\n",
        "    plt.figure()\n",
        "    # loss\n",
        "    plt.plot(iters, self.losses[loss_type], 'g', label = 'train loss')\n",
        "    if loss_type == 'epoch':\n",
        "      # val_acc\n",
        "      #plt.plot(iters, self.val_acc[loss_type], 'b', label ='val acc')\n",
        "      # val_loss\n",
        "      plt.plot(iters, self.val_loss[loss_type], 'k', label='val loss')\n",
        "    plt.grid(True)\n",
        "    plt.xlabel(loss_type)\n",
        "    plt.ylabel('acc-loss')\n",
        "    plt.legend(loc=\"upper right\")\n",
        "    plt.show()"
      ],
      "metadata": {
        "id": "48BlLWUEGy5I"
      },
      "execution_count": 12,
      "outputs": []
    },
    {
      "cell_type": "markdown",
      "source": [
        "##定义评价参数"
      ],
      "metadata": {
        "id": "5BXjlw6psWBF"
      }
    },
    {
      "cell_type": "code",
      "source": [
        "METRICS = [\n",
        "      keras.metrics.TruePositives(name='tp'),\n",
        "      keras.metrics.FalsePositives(name='fp'),\n",
        "      keras.metrics.TrueNegatives(name='tn'),\n",
        "      keras.metrics.FalseNegatives(name='fn'), \n",
        "      keras.metrics.BinaryAccuracy(name='accuracy'),\n",
        "      keras.metrics.Precision(name='precision'),\n",
        "      keras.metrics.Recall(name='recall'),\n",
        "      keras.metrics.AUC(name='auc'),\n",
        "]"
      ],
      "metadata": {
        "id": "1-5YG9zUsYFo"
      },
      "execution_count": 13,
      "outputs": []
    },
    {
      "cell_type": "markdown",
      "source": [
        "## 设置网络结构中的一些常数\n",
        "包含了两方面的常数\n",
        "1. 数据处理过程中，词向量维度，词汇表长度等\n",
        "2. 网络结构中参数"
      ],
      "metadata": {
        "id": "1TYsYtABhhQA"
      }
    },
    {
      "cell_type": "code",
      "source": [
        "# 词汇表的长度，选择前 MAXNUM 索引的数据。 \n",
        "MAXNUM = 10000 \n",
        "# 将每个句子填充或截断至maxlen长度 \n",
        "maxlen = 400\n",
        "\n",
        "# 设置词向量的维度 \n",
        "embedding_dims = 50 \n",
        "filters = 250 \n",
        "kernel_size = 3\n",
        "\n",
        "# 设置全连接层中，神经元的个数, 批处理量\n",
        "batch_size = 16\n",
        "hidden_dims = 500 \n",
        "epochs = 10"
      ],
      "metadata": {
        "id": "UmIF0jF_hT2v"
      },
      "execution_count": 14,
      "outputs": []
    },
    {
      "cell_type": "markdown",
      "source": [
        "## 加载数据与数据预处理"
      ],
      "metadata": {
        "id": "YH4X1ygLhuxv"
      }
    },
    {
      "cell_type": "code",
      "source": [
        "print(\"============ Loading data... ============\")\n",
        "# 载入数据集\n",
        "(x_train,y_train),(x_test,y_test) = imdb.load_data(num_words = MAXNUM) \n",
        "print(len(x_train),\"train sequences\") \n",
        "print(len(x_test),\"test sequences\") \n",
        "print(\"pad sequences (samples*time)\") \n",
        "# 填充每一条数据使所有的数据维度相同\n",
        "x_train=sequence.pad_sequences(x_train,maxlen=maxlen) \n",
        "x_test=sequence.pad_sequences(x_test,maxlen=maxlen) \n",
        "print(\"x_train.shape:\",x_train.shape) \n",
        "print(\"x_test.shape:\",x_test.shape)"
      ],
      "metadata": {
        "colab": {
          "base_uri": "https://localhost:8080/"
        },
        "id": "stNhWEzghuYO",
        "outputId": "8340cf2c-f31f-4b5f-e9e2-ddc3424d0af4"
      },
      "execution_count": 15,
      "outputs": [
        {
          "output_type": "stream",
          "name": "stdout",
          "text": [
            "============ Loading data... ============\n",
            "25000 train sequences\n",
            "25000 test sequences\n",
            "pad sequences (samples*time)\n",
            "x_train.shape: (25000, 400)\n",
            "x_test.shape: (25000, 400)\n"
          ]
        }
      ]
    },
    {
      "cell_type": "markdown",
      "source": [
        "##建立模型"
      ],
      "metadata": {
        "id": "0RJQFJHSh6e7"
      }
    },
    {
      "cell_type": "code",
      "source": [
        "print(\"============ Building Model... ============\") \n",
        "# 采用序列模型 \n",
        "model=Sequential() \n",
        "# 添加词嵌入层作为神经网络的第一层\n",
        "# 添加 Dropout 防止过拟合\n",
        "model.add(Embedding(MAXNUM,embedding_dims,input_length=maxlen)) \n",
        "model.add(Dropout(0.4)) \n",
        "model.add(Conv1D(filters,kernel_size,padding=\"valid\",activation='relu',strides=1)) \n",
        "# 使用 Maxpooling 最大池化层\n",
        "model.add(GlobalMaxPooling1D()) \n",
        "# 添加全连接层 \n",
        "model.add(Dense(hidden_dims)) \n",
        "model.add(Dropout(0.4)) \n",
        "model.add(Activation('relu')) \n",
        "# 输出层\n",
        "model.add(Dense(1)) \n",
        "model.add(Activation(\"sigmoid\")) \n",
        "model.compile(loss=\"binary_crossentropy\", optimizer='RMSprop', metrics = METRICS)\n",
        "history_loss = LossHistory()\n",
        "#创建一个实例 history 用于保存输出结果\n",
        "history = model.fit(x_train,y_train,batch_size=batch_size,epochs=epochs,validation_data=(x_test,y_test), callbacks=[history_loss])"
      ],
      "metadata": {
        "colab": {
          "base_uri": "https://localhost:8080/"
        },
        "id": "AC46MyWVh6U6",
        "outputId": "52e6067d-a36f-4fa5-e59c-5ed8af12534f"
      },
      "execution_count": 16,
      "outputs": [
        {
          "output_type": "stream",
          "name": "stdout",
          "text": [
            "============ Building Model... ============\n",
            "Epoch 1/10\n",
            "1563/1563 [==============================] - 78s 49ms/step - loss: 0.4376 - tp: 9910.0000 - fp: 2871.0000 - tn: 9629.0000 - fn: 2590.0000 - accuracy: 0.7816 - precision: 0.7754 - recall: 0.7928 - auc: 0.8764 - val_loss: 0.3690 - val_tp: 9357.0000 - val_fp: 703.0000 - val_tn: 11797.0000 - val_fn: 3143.0000 - val_accuracy: 0.8462 - val_precision: 0.9301 - val_recall: 0.7486 - val_auc: 0.9442\n",
            "Epoch 2/10\n",
            "1563/1563 [==============================] - 76s 48ms/step - loss: 0.3052 - tp: 10961.0000 - fp: 1615.0000 - tn: 10885.0000 - fn: 1539.0000 - accuracy: 0.8738 - precision: 0.8716 - recall: 0.8769 - auc: 0.9439 - val_loss: 0.2694 - val_tp: 10739.0000 - val_fp: 1092.0000 - val_tn: 11408.0000 - val_fn: 1761.0000 - val_accuracy: 0.8859 - val_precision: 0.9077 - val_recall: 0.8591 - val_auc: 0.9576\n",
            "Epoch 3/10\n",
            "1563/1563 [==============================] - 77s 49ms/step - loss: 0.2720 - tp: 11116.0000 - fp: 1434.0000 - tn: 11066.0000 - fn: 1384.0000 - accuracy: 0.8873 - precision: 0.8857 - recall: 0.8893 - auc: 0.9559 - val_loss: 0.2491 - val_tp: 11224.0000 - val_fp: 1297.0000 - val_tn: 11203.0000 - val_fn: 1276.0000 - val_accuracy: 0.8971 - val_precision: 0.8964 - val_recall: 0.8979 - val_auc: 0.9624\n",
            "Epoch 4/10\n",
            "1563/1563 [==============================] - 76s 49ms/step - loss: 0.2536 - tp: 11255.0000 - fp: 1261.0000 - tn: 11239.0000 - fn: 1245.0000 - accuracy: 0.8998 - precision: 0.8992 - recall: 0.9004 - auc: 0.9620 - val_loss: 0.2524 - val_tp: 11593.0000 - val_fp: 1686.0000 - val_tn: 10814.0000 - val_fn: 907.0000 - val_accuracy: 0.8963 - val_precision: 0.8730 - val_recall: 0.9274 - val_auc: 0.9632\n",
            "Epoch 5/10\n",
            "1563/1563 [==============================] - 76s 49ms/step - loss: 0.2429 - tp: 11302.0000 - fp: 1224.0000 - tn: 11276.0000 - fn: 1198.0000 - accuracy: 0.9031 - precision: 0.9023 - recall: 0.9042 - auc: 0.9655 - val_loss: 0.2611 - val_tp: 10414.0000 - val_fp: 716.0000 - val_tn: 11784.0000 - val_fn: 2086.0000 - val_accuracy: 0.8879 - val_precision: 0.9357 - val_recall: 0.8331 - val_auc: 0.9642\n",
            "Epoch 6/10\n",
            "1563/1563 [==============================] - 75s 48ms/step - loss: 0.2291 - tp: 11432.0000 - fp: 1106.0000 - tn: 11394.0000 - fn: 1068.0000 - accuracy: 0.9130 - precision: 0.9118 - recall: 0.9146 - auc: 0.9693 - val_loss: 0.2639 - val_tp: 11790.0000 - val_fp: 1900.0000 - val_tn: 10600.0000 - val_fn: 710.0000 - val_accuracy: 0.8956 - val_precision: 0.8612 - val_recall: 0.9432 - val_auc: 0.9643\n",
            "Epoch 7/10\n",
            "1563/1563 [==============================] - 77s 49ms/step - loss: 0.2244 - tp: 11451.0000 - fp: 1061.0000 - tn: 11439.0000 - fn: 1049.0000 - accuracy: 0.9156 - precision: 0.9152 - recall: 0.9161 - auc: 0.9704 - val_loss: 0.3143 - val_tp: 9724.0000 - val_fp: 498.0000 - val_tn: 12002.0000 - val_fn: 2776.0000 - val_accuracy: 0.8690 - val_precision: 0.9513 - val_recall: 0.7779 - val_auc: 0.9633\n",
            "Epoch 8/10\n",
            "1563/1563 [==============================] - 76s 49ms/step - loss: 0.2124 - tp: 11524.0000 - fp: 1001.0000 - tn: 11499.0000 - fn: 976.0000 - accuracy: 0.9209 - precision: 0.9201 - recall: 0.9219 - auc: 0.9735 - val_loss: 0.2828 - val_tp: 10219.0000 - val_fp: 598.0000 - val_tn: 11902.0000 - val_fn: 2281.0000 - val_accuracy: 0.8848 - val_precision: 0.9447 - val_recall: 0.8175 - val_auc: 0.9646\n",
            "Epoch 9/10\n",
            "1563/1563 [==============================] - 75s 48ms/step - loss: 0.2064 - tp: 11546.0000 - fp: 963.0000 - tn: 11537.0000 - fn: 954.0000 - accuracy: 0.9233 - precision: 0.9230 - recall: 0.9237 - auc: 0.9751 - val_loss: 0.2995 - val_tp: 9783.0000 - val_fp: 521.0000 - val_tn: 11979.0000 - val_fn: 2717.0000 - val_accuracy: 0.8705 - val_precision: 0.9494 - val_recall: 0.7826 - val_auc: 0.9639\n",
            "Epoch 10/10\n",
            "1563/1563 [==============================] - 76s 48ms/step - loss: 0.1974 - tp: 11625.0000 - fp: 918.0000 - tn: 11582.0000 - fn: 875.0000 - accuracy: 0.9283 - precision: 0.9268 - recall: 0.9300 - auc: 0.9768 - val_loss: 0.2558 - val_tp: 11341.0000 - val_fp: 1268.0000 - val_tn: 11232.0000 - val_fn: 1159.0000 - val_accuracy: 0.9029 - val_precision: 0.8994 - val_recall: 0.9073 - val_auc: 0.9644\n"
          ]
        }
      ]
    },
    {
      "cell_type": "markdown",
      "source": [
        "##画出相关结果图表"
      ],
      "metadata": {
        "id": "z-pekswdoT-2"
      }
    },
    {
      "cell_type": "code",
      "source": [
        "#模型评估\n",
        "score = model.evaluate(x_test, y_test, verbose=0)\n",
        "print('Test score:', score[0])\n",
        "print('Test accuracy:', score[1])\n",
        "#绘制 loss 曲线\n",
        "history_loss.loss_plot('epoch')"
      ],
      "metadata": {
        "colab": {
          "base_uri": "https://localhost:8080/",
          "height": 315
        },
        "id": "0leCu7z_Aiyv",
        "outputId": "e7e7cc34-79ee-49e0-9937-5fd602bb3d8d"
      },
      "execution_count": 17,
      "outputs": [
        {
          "output_type": "stream",
          "name": "stdout",
          "text": [
            "Test score: 0.2558377981185913\n",
            "Test accuracy: 11341.0\n"
          ]
        },
        {
          "output_type": "display_data",
          "data": {
            "image/png": "[encoded data removed]",
            "text/plain": [
              "<Figure size 432x288 with 1 Axes>"
            ]
          },
          "metadata": {
            "needs_background": "light"
          }
        }
      ]
    },
    {
      "cell_type": "markdown",
      "source": [
        "## 参数评估"
      ],
      "metadata": {
        "id": "xIk21UjfK6_s"
      }
    },
    {
      "cell_type": "markdown",
      "source": [
        "###定义损失曲线、AUC曲线、精确率曲线以及召回率曲线函数"
      ],
      "metadata": {
        "id": "wsoGTXOoMYsL"
      }
    },
    {
      "cell_type": "code",
      "source": [
        "def plot_metrics(history):\n",
        "    metrics =  ['loss', 'auc', 'precision', 'recall']\n",
        "    for n, metric in enumerate(metrics):\n",
        "        name = metric\n",
        "        plt.subplot(2,2,n+1)\n",
        "        plt.plot(history.epoch,  history.history[metric], color='b', label='Train')\n",
        "        plt.plot(history.epoch, history.history['val_'+metric],\n",
        "                 color='b', linestyle=\"--\", label='Val')\n",
        "        plt.xlabel('Epoch')\n",
        "        plt.ylabel(name)\n",
        "        if metric == 'loss':\n",
        "            plt.ylim([0, plt.ylim()[1]])\n",
        "        elif metric == 'auc':\n",
        "            plt.ylim([0.8,1])\n",
        "        else:\n",
        "            plt.ylim([0,1])\n",
        "\n",
        "        plt.legend()\n",
        "plot_metrics(history)"
      ],
      "metadata": {
        "colab": {
          "base_uri": "https://localhost:8080/",
          "height": 283
        },
        "id": "ggJ9wjJtK8yx",
        "outputId": "1516110d-c959-46ad-d0b1-2e6b6bdabbba"
      },
      "execution_count": 18,
      "outputs": [
        {
          "output_type": "display_data",
          "data": {
            "image/png": "[encoded data removed]",
            "text/plain": [
              "<Figure size 432x288 with 4 Axes>"
            ]
          },
          "metadata": {
            "needs_background": "light"
          }
        }
      ]
    }
  ]
}